{
  "cells": [
    {
      "cell_type": "code",
      "execution_count": null,
      "metadata": {
        "id": "mBDVXk5mQ81Z"
      },
      "outputs": [],
      "source": [
        "import pandas as pd\n",
        "from sklearn.model_selection import train_test_split, cross_val_score\n",
        "from sklearn.preprocessing import LabelEncoder, StandardScaler, PolynomialFeatures\n",
        "from sklearn.linear_model import LinearRegression\n",
        "from sklearn.metrics import mean_squared_error, r2_score"
      ]
    },
    {
      "cell_type": "code",
      "execution_count": null,
      "metadata": {
        "id": "rGlibYtuCSLa"
      },
      "outputs": [],
      "source": []
    },
    {
      "cell_type": "code",
      "execution_count": null,
      "metadata": {
        "id": "8MWKAcjZQ_YK"
      },
      "outputs": [],
      "source": [
        "\n",
        "# Load the dataset\n",
        "df = pd.read_csv(\"TV_Final.csv\")\n",
        "\n",
        "# Separate features and target variable\n",
        "X = df.drop(columns='Selling Price(USD)')\n",
        "y = df['Selling Price(USD)']"
      ]
    },
    {
      "cell_type": "code",
      "execution_count": null,
      "metadata": {
        "id": "AR5m0O0JRCWK"
      },
      "outputs": [],
      "source": [
        "# Apply Label Encoding to categorical variables\n",
        "label_encoders = {}\n",
        "for column in X.select_dtypes(include=['object']).columns:\n",
        "    le = LabelEncoder()\n",
        "    X[column] = le.fit_transform(X[column])\n",
        "    label_encoders[column] = le\n",
        "\n",
        "# Adding Polynomial Features\n",
        "poly = PolynomialFeatures(degree=2, include_bias=False)\n",
        "X_poly = poly.fit_transform(X)\n",
        "\n",
        "# Split the data into training and testing sets\n",
        "X_train, X_test, y_train, y_test = train_test_split(X_poly, y, test_size=0.2, random_state=42)"
      ]
    },
    {
      "cell_type": "code",
      "execution_count": null,
      "metadata": {
        "colab": {
          "base_uri": "https://localhost:8080/"
        },
        "id": "gdyRx_-GQ25u",
        "outputId": "be17eff2-0762-4dc5-8566-4e7e80524ecc"
      },
      "outputs": [
        {
          "name": "stdout",
          "output_type": "stream",
          "text": [
            "Mean Squared Error: 255009.6291532833\n",
            "R-squared: 0.559328612421284\n",
            "Accuracy: 55.932861242128396%\n",
            "Cross-validated R-squared: 31.244654985675822%\n",
            "     Actual    Predicted\n",
            "649     299   359.345718\n",
            "761     120   184.328956\n",
            "545     167   165.092774\n",
            "367    1462  2198.977979\n",
            "361     870   561.168607\n",
            "..      ...          ...\n",
            "344    1315  1989.860507\n",
            "581    1793  2375.795426\n",
            "872     150   198.100193\n",
            "449     718   872.669076\n",
            "789     431   295.872190\n",
            "\n",
            "[183 rows x 2 columns]\n"
          ]
        }
      ],
      "source": [
        "# Feature scaling\n",
        "scaler = StandardScaler()\n",
        "X_train = scaler.fit_transform(X_train)\n",
        "X_test = scaler.transform(X_test)\n",
        "\n",
        "# Train the linear regression model\n",
        "model = LinearRegression()\n",
        "model.fit(X_train, y_train)\n",
        "\n",
        "# Make predictions\n",
        "y_pred = model.predict(X_test)\n",
        "\n",
        "# Evaluate the model\n",
        "mse = mean_squared_error(y_test, y_pred)\n",
        "r2 = r2_score(y_test, y_pred)\n",
        "accuracy = r2 * 100\n",
        "\n",
        "print(f\"Mean Squared Error: {mse}\")\n",
        "print(f\"R-squared: {r2}\")\n",
        "print(f\"Accuracy: {accuracy}%\")\n",
        "\n",
        "# Cross-validation to check the stability of the model\n",
        "cv_scores = cross_val_score(model, X_poly, y, cv=10, scoring='r2')\n",
        "mean_cv_score = cv_scores.mean() * 100\n",
        "\n",
        "print(f\"Cross-validated R-squared: {mean_cv_score}%\")\n",
        "\n",
        "# Comparison of predicted values and actual values\n",
        "comparison = pd.DataFrame({'Actual': y_test, 'Predicted': y_pred})\n",
        "print(comparison)\n"
      ]
    },
    {
      "cell_type": "code",
      "execution_count": null,
      "metadata": {
        "colab": {
          "base_uri": "https://localhost:8080/"
        },
        "id": "2Dbm7LHtRugj",
        "outputId": "27adf46f-cf8c-48de-a1a2-13d76c1b281e"
      },
      "outputs": [
        {
          "name": "stdout",
          "output_type": "stream",
          "text": [
            "Requirement already satisfied: joblib in /usr/local/lib/python3.10/dist-packages (1.4.2)\n"
          ]
        }
      ],
      "source": [
        "pip install joblib\n"
      ]
    },
    {
      "cell_type": "code",
      "execution_count": null,
      "metadata": {
        "colab": {
          "base_uri": "https://localhost:8080/"
        },
        "id": "ScCmCW84RvD7",
        "outputId": "0a474645-ef02-4af7-fef8-52b40adb4812"
      },
      "outputs": [
        {
          "data": {
            "text/plain": [
              "['scaler.pkl']"
            ]
          },
          "execution_count": 6,
          "metadata": {},
          "output_type": "execute_result"
        }
      ],
      "source": [
        "import joblib"
      ]
    },
    {
      "cell_type": "code",
      "execution_count": null,
      "metadata": {
        "colab": {
          "base_uri": "https://localhost:8080/"
        },
        "id": "e9eUPZKYSt8T",
        "outputId": "bb3ca3a6-1013-410d-fcc1-c9c813783344"
      },
      "outputs": [
        {
          "data": {
            "text/plain": [
              "['label_encoders.pkl']"
            ]
          },
          "execution_count": 7,
          "metadata": {},
          "output_type": "execute_result"
        }
      ],
      "source": [
        "import joblib\n",
        "\n",
        "joblib.dump(model, 'linear_regression_model.pkl')\n",
        "joblib.dump(scaler, 'scaler.pkl')\n",
        "joblib.dump(poly, 'poly.pkl')\n",
        "joblib.dump(label_encoders, 'label_encoders.pkl')"
      ]
    },
    {
      "cell_type": "code",
      "execution_count": null,
      "metadata": {
        "id": "uj7-dX7tBnvv"
      },
      "outputs": [],
      "source": []
    }
  ],
  "metadata": {
    "colab": {
      "provenance": []
    },
    "kernelspec": {
      "display_name": "Python 3",
      "name": "python3"
    },
    "language_info": {
      "name": "python"
    }
  },
  "nbformat": 4,
  "nbformat_minor": 0
}
